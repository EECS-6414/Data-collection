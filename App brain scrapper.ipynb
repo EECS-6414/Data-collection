{
 "cells": [
  {
   "cell_type": "code",
   "execution_count": 3,
   "metadata": {},
   "outputs": [],
   "source": [
    "from bs4 import BeautifulSoup, Comment\n",
    "import csv\n",
    "import json\n",
    "import datetime\n",
    "import requests\n",
    "def dic_json(dic,path):\n",
    "    with open(path+\".json\", \"w\") as outfile:  \n",
    "        json.dump(dic, outfile)"
   ]
  },
  {
   "cell_type": "code",
   "execution_count": 4,
   "metadata": {},
   "outputs": [],
   "source": [
    "todo=['com.microsoft.rdc.android.beta',\n",
    " 'com.microsoft.windowsintune.companyportal',\n",
    " 'com.midasplayer.apps.papapearsaga',\n",
    " 'com.miniclip.basketballstars',\n",
    " 'com.miniclip.hockeystars',\n",
    " 'com.ms.office365admin',\n",
    " 'com.mxtech.ffmpeg.v5te',\n",
    " 'com.mxtech.ffmpeg.v6',\n",
    " 'com.mxtech.ffmpeg.v7_vfpv3d16',\n",
    " 'com.mxtech.ffmpeg.x86',\n",
    " 'com.northghost.appsecurity',\n",
    " 'com.northghost.appsecurity.theme.christmas',\n",
    " 'com.northghost.appsecurity.theme.flowers',\n",
    " 'com.northghost.appsecurity.theme.halloween',\n",
    " 'com.northpark.beautycamera',\n",
    " 'com.omgpop.dstfree',\n",
    " 'com.omgpop.dstpaid',\n",
    " 'com.oneapp.max',\n",
    " 'com.oneapp.max.cleaner.booster',\n",
    " 'com.pastagames.ro1mobile',\n",
    " 'com.perracolabs.cp',\n",
    " 'com.perracolabs.cpd',\n",
    " 'com.playfirst.playground.hoteldash',\n",
    " 'com.popularapp.videodownloaderforinstagram',\n",
    " 'com.runtastic.android.me.lite',\n",
    " 'com.samsung.accessory',\n",
    " 'com.samsung.smarthome',\n",
    " 'com.samsung.smarthome.dvm',\n",
    " 'com.the10tons.azkend',\n",
    " 'com.the10tons.azkend.free',\n",
    " 'com.the10tons.clownsintheface',\n",
    " 'com.the10tons.heroesofkalevala.lite',\n",
    " 'com.the10tons.joininghands2',\n",
    " 'com.the10tons.puzkend_lite',\n",
    " 'com.the10tons.tennisintheface',\n",
    " 'com.tmsoft.spillzone',\n",
    " 'uk.co.aifactory.spadesfree']"
   ]
  },
  {
   "cell_type": "code",
   "execution_count": null,
   "metadata": {},
   "outputs": [],
   "source": [
    "update={}\n",
    "while len(todo)>0:\n",
    "    for i in todo:\n",
    "        import requests\n",
    "        r = requests.get(\"https://www.appbrain.com/app/\"+i)\n",
    "        soup = BeautifulSoup(r.content)\n",
    "        dates = soup.findAll('span',attrs = {'class' : 'app-changelog-date'})\n",
    "        mod_type=soup.findAll('span',attrs = {'class' : \"app-changelog-type\"}) \n",
    "        version=soup.findAll('span',attrs = {'class' : \"app-changelog-description\"})\n",
    "        update[i]={}\n",
    "        for j in range(len(dates)):\n",
    "            update[i][dates[j].text.strip()]=list([mod_type[j].text.strip(),version[j].text.strip()])\n",
    "    todo=[]\n",
    "    for i in update.keys():\n",
    "        if update[i]=={}:\n",
    "            todo.append(i)"
   ]
  },
  {
   "cell_type": "code",
   "execution_count": null,
   "metadata": {},
   "outputs": [],
   "source": [
    "dic_json(update,\"version_dates_2\")"
   ]
  }
 ],
 "metadata": {
  "kernelspec": {
   "display_name": "Python 3",
   "language": "python",
   "name": "python3"
  },
  "language_info": {
   "codemirror_mode": {
    "name": "ipython",
    "version": 3
   },
   "file_extension": ".py",
   "mimetype": "text/x-python",
   "name": "python",
   "nbconvert_exporter": "python",
   "pygments_lexer": "ipython3",
   "version": "3.7.3"
  }
 },
 "nbformat": 4,
 "nbformat_minor": 2
}
